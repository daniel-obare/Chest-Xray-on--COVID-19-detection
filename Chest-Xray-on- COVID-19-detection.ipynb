{
 "cells": [
  {
   "cell_type": "markdown",
   "metadata": {},
   "source": [
    "# Chest Analysis to detect X-ray image with COVID-19 "
   ]
  },
  {
   "cell_type": "code",
   "execution_count": 2,
   "metadata": {},
   "outputs": [
    {
     "data": {
      "text/plain": [
       "'C:\\\\Users\\\\Admin\\\\Desktop\\\\R projects\\\\COVID-19 -Chest-XRAY-Analysis'"
      ]
     },
     "execution_count": 2,
     "metadata": {},
     "output_type": "execute_result"
    }
   ],
   "source": [
    "pwd"
   ]
  },
  {
   "cell_type": "code",
   "execution_count": 3,
   "metadata": {},
   "outputs": [
    {
     "name": "stderr",
     "output_type": "stream",
     "text": [
      "Using TensorFlow backend.\n"
     ]
    }
   ],
   "source": [
    "import pandas as pd\n",
    "import numpy as np\n",
    "import keras\n",
    "from keras.models import Sequential\n",
    "from keras.layers import Conv2D, MaxPool2D, Dense, Dropout, Flatten, Activation\n",
    "from keras import backend as K\n",
    "from keras.utils import to_categorical\n",
    "from keras.preprocessing.image import ImageDataGenerator\n",
    "from sklearn.model_selection import train_test_split\n",
    "import os, glob, utils, random, shutil, warnings\n",
    "warnings.filterwarnings('ignore')"
   ]
  },
  {
   "cell_type": "code",
   "execution_count": 17,
   "metadata": {},
   "outputs": [],
   "source": [
    "img_dir = './images/'\n",
    "data = pd.read_csv('metadata.csv')"
   ]
  },
  {
   "cell_type": "code",
   "execution_count": 18,
   "metadata": {},
   "outputs": [
    {
     "data": {
      "text/html": [
       "<div>\n",
       "<style scoped>\n",
       "    .dataframe tbody tr th:only-of-type {\n",
       "        vertical-align: middle;\n",
       "    }\n",
       "\n",
       "    .dataframe tbody tr th {\n",
       "        vertical-align: top;\n",
       "    }\n",
       "\n",
       "    .dataframe thead th {\n",
       "        text-align: right;\n",
       "    }\n",
       "</style>\n",
       "<table border=\"1\" class=\"dataframe\">\n",
       "  <thead>\n",
       "    <tr style=\"text-align: right;\">\n",
       "      <th></th>\n",
       "      <th>finding</th>\n",
       "      <th>filename</th>\n",
       "    </tr>\n",
       "  </thead>\n",
       "  <tbody>\n",
       "    <tr>\n",
       "      <td>0</td>\n",
       "      <td>COVID-19</td>\n",
       "      <td>auntminnie-a-2020_01_28_23_51_6665_2020_01_28_...</td>\n",
       "    </tr>\n",
       "    <tr>\n",
       "      <td>1</td>\n",
       "      <td>COVID-19</td>\n",
       "      <td>auntminnie-b-2020_01_28_23_51_6665_2020_01_28_...</td>\n",
       "    </tr>\n",
       "    <tr>\n",
       "      <td>2</td>\n",
       "      <td>COVID-19</td>\n",
       "      <td>auntminnie-c-2020_01_28_23_51_6665_2020_01_28_...</td>\n",
       "    </tr>\n",
       "    <tr>\n",
       "      <td>3</td>\n",
       "      <td>COVID-19</td>\n",
       "      <td>auntminnie-d-2020_01_28_23_51_6665_2020_01_28_...</td>\n",
       "    </tr>\n",
       "    <tr>\n",
       "      <td>4</td>\n",
       "      <td>COVID-19</td>\n",
       "      <td>nejmc2001573_f1a.jpeg</td>\n",
       "    </tr>\n",
       "  </tbody>\n",
       "</table>\n",
       "</div>"
      ],
      "text/plain": [
       "    finding                                           filename\n",
       "0  COVID-19  auntminnie-a-2020_01_28_23_51_6665_2020_01_28_...\n",
       "1  COVID-19  auntminnie-b-2020_01_28_23_51_6665_2020_01_28_...\n",
       "2  COVID-19  auntminnie-c-2020_01_28_23_51_6665_2020_01_28_...\n",
       "3  COVID-19  auntminnie-d-2020_01_28_23_51_6665_2020_01_28_...\n",
       "4  COVID-19                              nejmc2001573_f1a.jpeg"
      ]
     },
     "execution_count": 18,
     "metadata": {},
     "output_type": "execute_result"
    }
   ],
   "source": [
    "dt = data[['finding', 'filename']]\n",
    "dt.head()"
   ]
  },
  {
   "cell_type": "code",
   "execution_count": 6,
   "metadata": {},
   "outputs": [
    {
     "data": {
      "text/plain": [
       "finding     False\n",
       "filename    False\n",
       "dtype: bool"
      ]
     },
     "execution_count": 6,
     "metadata": {},
     "output_type": "execute_result"
    }
   ],
   "source": [
    "dt.isnull().any()"
   ]
  },
  {
   "cell_type": "code",
   "execution_count": 27,
   "metadata": {},
   "outputs": [
    {
     "data": {
      "text/html": [
       "<div>\n",
       "<style scoped>\n",
       "    .dataframe tbody tr th:only-of-type {\n",
       "        vertical-align: middle;\n",
       "    }\n",
       "\n",
       "    .dataframe tbody tr th {\n",
       "        vertical-align: top;\n",
       "    }\n",
       "\n",
       "    .dataframe thead th {\n",
       "        text-align: right;\n",
       "    }\n",
       "</style>\n",
       "<table border=\"1\" class=\"dataframe\">\n",
       "  <thead>\n",
       "    <tr style=\"text-align: right;\">\n",
       "      <th></th>\n",
       "      <th>im</th>\n",
       "    </tr>\n",
       "  </thead>\n",
       "  <tbody>\n",
       "  </tbody>\n",
       "</table>\n",
       "</div>"
      ],
      "text/plain": [
       "Empty DataFrame\n",
       "Columns: [im]\n",
       "Index: []"
      ]
     },
     "execution_count": 27,
     "metadata": {},
     "output_type": "execute_result"
    }
   ],
   "source": [
    "# check for any duplicated\n",
    "pd.DataFrame({'im': os.listdir(img_dir)}).nunique()"
   ]
  },
  {
   "cell_type": "code",
   "execution_count": 8,
   "metadata": {},
   "outputs": [],
   "source": [
    "# split images to train and test test\n",
    "image_names = os.listdir(img_dir) # list of all images\n",
    "#\n",
    "train_names = dt.filename.tolist() # return list of all train names\n",
    "test_names = []\n",
    "#\n",
    "for img in image_names:\n",
    "    if img not in train_names:\n",
    "        test_names.append(img)"
   ]
  },
  {
   "cell_type": "code",
   "execution_count": null,
   "metadata": {},
   "outputs": [],
   "source": []
  },
  {
   "cell_type": "code",
   "execution_count": 10,
   "metadata": {},
   "outputs": [
    {
     "data": {
      "text/plain": [
       "array(['COVID-19', 'ARDS', 'SARS', 'Pneumocystis', 'Streptococcus',\n",
       "       'No Finding', 'Chlamydophila', 'E.Coli', 'COVID-19, ARDS',\n",
       "       'Klebsiella', 'Legionella'], dtype=object)"
      ]
     },
     "execution_count": 10,
     "metadata": {},
     "output_type": "execute_result"
    }
   ],
   "source": [
    "dt.finding.unique()"
   ]
  },
  {
   "cell_type": "code",
   "execution_count": 21,
   "metadata": {},
   "outputs": [],
   "source": [
    "dt['finding']=dt['finding'].astype('category')"
   ]
  },
  {
   "cell_type": "code",
   "execution_count": null,
   "metadata": {},
   "outputs": [],
   "source": []
  },
  {
   "cell_type": "code",
   "execution_count": 19,
   "metadata": {},
   "outputs": [],
   "source": [
    "# create image directory for train and test loaded into img_dir workspace\n",
    "dirs = ['train_imgs', 'test_imgs'] #folders to be created\n",
    "all_files = './' # current directory path\n",
    "for files in dirs:\n",
    "    os.makedirs(os.path.join(all_files, files)) # creates the two files in the current directory"
   ]
  },
  {
   "cell_type": "code",
   "execution_count": 20,
   "metadata": {},
   "outputs": [],
   "source": [
    "# split the train directory into sub directories\n",
    "dirs = ['COVID-19', 'ARDS', 'SARS', 'Pneumocystis', 'Streptococcus','No Finding', 'Chlamydophila', 'E.Coli', 'COVID-19, ARDS',\n",
    "       'Klebsiella', 'Legionella'] # train class sub directories\n",
    "trn_dir = './train_imgs/' # train images directory path\n",
    "for files in dirs:\n",
    "    os.makedirs(os.path.join(trn_dir, files))"
   ]
  },
  {
   "cell_type": "code",
   "execution_count": 25,
   "metadata": {},
   "outputs": [],
   "source": [
    "# move respectve images to their directories\n",
    "image_dir = './images'\n",
    "for filepath in glob.glob(image_dir +'/*'):\n",
    "    if os.path.basename(filepath) in dt[dt['finding'] == 'COVID-19'].drop('finding', axis=1).filename.tolist():\n",
    "        shutil.move(filepath, './train_imgs/COVID-19')\n",
    "    elif os.path.basename(filepath) in dt[dt['finding'] == 'ARDS'].drop('finding', axis=1).filename.tolist():\n",
    "        shutil.move(filepath, './train_imgs/ARDS')\n",
    "    elif os.path.basename(filepath) in dt[dt['finding'] == 'SARS'].drop('finding', axis=1).filename.tolist():\n",
    "        shutil.move(filepath, './train_imgs/SARS')\n",
    "    elif os.path.basename(filepath) in dt[dt['finding'] == 'Pneumocystis'].drop('finding', axis=1).filename.tolist():\n",
    "        shutil.move(filepath, './train_imgs/Pneumocystis')\n",
    "    elif os.path.basename(filepath) in dt[dt['finding'] == 'Streptococcus'].drop('finding', axis=1).filename.tolist():\n",
    "        shutil.move(filepath, './train_imgs/Streptococcus')\n",
    "    elif os.path.basename(filepath) in dt[dt['finding'] == 'No Finding'].drop('finding', axis=1).filename.tolist():\n",
    "        shutil.move(filepath, './train_imgs/No Finding')\n",
    "    elif os.path.basename(filepath) in dt[dt['finding'] == 'Chlamydophila'].drop('finding', axis=1).filename.tolist():\n",
    "        shutil.move(filepath, './train_imgs/Chlamydophila')\n",
    "    elif os.path.basename(filepath) in dt[dt['finding'] == 'E.Coli'].drop('finding', axis=1).filename.tolist():\n",
    "        shutil.move(filepath, './train_imgs/E.Coli')\n",
    "    elif os.path.basename(filepath) in dt[dt['finding'] == 'COVID-19, ARDS'].drop('finding', axis=1).filename.tolist():\n",
    "        shutil.move(filepath, './train_imgs/COVID-19, ARDS')\n",
    "    elif os.path.basename(filepath) in dt[dt['finding'] == 'Klebsiella'].drop('finding', axis=1).filename.tolist():\n",
    "        shutil.move(filepath, './train_imgs/Klebsiella')\n",
    "    elif os.path.basename(filepath) in dt[dt['finding'] == 'Legionella'].drop('finding', axis=1).filename.tolist():\n",
    "        shutil.move(filepath, './train_imgs/Legionella')\n",
    "    else:\n",
    "        shutil.move(filepath, './test_imgs')"
   ]
  },
  {
   "cell_type": "code",
   "execution_count": null,
   "metadata": {},
   "outputs": [],
   "source": []
  },
  {
   "cell_type": "code",
   "execution_count": 15,
   "metadata": {},
   "outputs": [
    {
     "name": "stdout",
     "output_type": "stream",
     "text": [
      "Model: \"sequential_2\"\n",
      "_________________________________________________________________\n",
      "Layer (type)                 Output Shape              Param #   \n",
      "=================================================================\n",
      "conv2d_8 (Conv2D)            (None, 126, 126, 32)      896       \n",
      "_________________________________________________________________\n",
      "max_pooling2d_4 (MaxPooling2 (None, 63, 63, 32)        0         \n",
      "_________________________________________________________________\n",
      "conv2d_9 (Conv2D)            (None, 61, 61, 64)        18496     \n",
      "_________________________________________________________________\n",
      "conv2d_10 (Conv2D)           (None, 59, 59, 64)        36928     \n",
      "_________________________________________________________________\n",
      "max_pooling2d_5 (MaxPooling2 (None, 29, 29, 64)        0         \n",
      "_________________________________________________________________\n",
      "conv2d_11 (Conv2D)           (None, 27, 27, 64)        36928     \n",
      "_________________________________________________________________\n",
      "conv2d_12 (Conv2D)           (None, 25, 25, 64)        36928     \n",
      "_________________________________________________________________\n",
      "max_pooling2d_6 (MaxPooling2 (None, 12, 12, 64)        0         \n",
      "_________________________________________________________________\n",
      "conv2d_13 (Conv2D)           (None, 10, 10, 128)       73856     \n",
      "_________________________________________________________________\n",
      "conv2d_14 (Conv2D)           (None, 8, 8, 128)         147584    \n",
      "_________________________________________________________________\n",
      "flatten_2 (Flatten)          (None, 8192)              0         \n",
      "_________________________________________________________________\n",
      "dense_3 (Dense)              (None, 128)               1048704   \n",
      "_________________________________________________________________\n",
      "dropout_2 (Dropout)          (None, 128)               0         \n",
      "_________________________________________________________________\n",
      "dense_4 (Dense)              (None, 11)                1419      \n",
      "=================================================================\n",
      "Total params: 1,401,739\n",
      "Trainable params: 1,401,739\n",
      "Non-trainable params: 0\n",
      "_________________________________________________________________\n"
     ]
    }
   ],
   "source": [
    "# global variables\n",
    "random.seed(1234)\n",
    "img_width, img_height = 128, 128\n",
    "channels = 3\n",
    "#\n",
    "# reshape the data inputs\n",
    "if K.image_data_format() == 'channels_first':\n",
    "    input_shape = (channels, img_width, img_height)\n",
    "else:\n",
    "    input_shape = (img_width, img_height, channels)\n",
    "# \n",
    "# algorithm to train model\n",
    "model = Sequential()\n",
    "model.add(Conv2D(32, (3,3), activation = 'relu', input_shape = input_shape))\n",
    "model.add(MaxPool2D(2,2))\n",
    "model.add(Conv2D(64, (3,3), activation = 'relu'))\n",
    "model.add(Conv2D(64, (3,3), activation = 'relu'))\n",
    "model.add(MaxPool2D(2,2))\n",
    "model.add(Conv2D(64, (3,3), activation = 'relu'))\n",
    "model.add(Conv2D(64, (3,3), activation = 'relu'))\n",
    "model.add(MaxPool2D(2,2))\n",
    "model.add(Conv2D(128, (3,3), activation = 'relu'))\n",
    "model.add(Conv2D(128, (3,3), activation = 'relu'))\n",
    "#\n",
    "# layer flatten, dense and dropout time\n",
    "model.add(Flatten())\n",
    "model.add(Dense(128, activation = 'relu'))\n",
    "model.add(Dropout(0.5))\n",
    "model.add(Dense(11, activation = 'softmax'))\n",
    "model.summary()\n",
    "#\n",
    "# compile\n",
    "model.compile(loss = 'sparse_categorical_crossentropy',\n",
    "              optimizer = 'adam',\n",
    "              metrics = ['accuracy'])"
   ]
  },
  {
   "cell_type": "code",
   "execution_count": 13,
   "metadata": {},
   "outputs": [
    {
     "name": "stdout",
     "output_type": "stream",
     "text": [
      "Found 224 images belonging to 11 classes.\n",
      "Found 4 images belonging to 1 classes.\n"
     ]
    }
   ],
   "source": [
    "# fit CNN to data generator and directory flow paths\n",
    "train_datagen = ImageDataGenerator(rescale=1./255, \n",
    "                                  shear_range=0.2, \n",
    "                                  zoom_range=0.2, \n",
    "                                  horizontal_flip=True)\n",
    "train_path = 'C:/Users/Admin/Desktop/R projects/COVID-19 -Chest-XRAY-Analysis/train_imgs'\n",
    "train_gen = train_datagen.flow_from_directory(train_path, \n",
    "                                             target_size = (img_width, img_height),\n",
    "                                             batch_size = 32,\n",
    "                                             class_mode = 'categorical')\n",
    "#\n",
    "test_datagen = ImageDataGenerator(rescale=1./255)\n",
    "test_gen = test_datagen.flow_from_directory('.', classes = ['test_imgs'],\n",
    "                                           target_size = (img_width, img_height),\n",
    "                                           batch_size = 32,\n",
    "                                           class_mode = 'categorical')"
   ]
  },
  {
   "cell_type": "code",
   "execution_count": null,
   "metadata": {},
   "outputs": [],
   "source": []
  }
 ],
 "metadata": {
  "kernelspec": {
   "display_name": "Python 3",
   "language": "python",
   "name": "python3"
  },
  "language_info": {
   "codemirror_mode": {
    "name": "ipython",
    "version": 3
   },
   "file_extension": ".py",
   "mimetype": "text/x-python",
   "name": "python",
   "nbconvert_exporter": "python",
   "pygments_lexer": "ipython3",
   "version": "3.7.4"
  }
 },
 "nbformat": 4,
 "nbformat_minor": 2
}
